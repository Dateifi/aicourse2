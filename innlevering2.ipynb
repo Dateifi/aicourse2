{
 "cells": [
  {
   "cell_type": "raw",
   "metadata": {
    "pycharm": {
     "name": "#%% raw\n"
    }
   },
   "source": [
    "1: Lag en Iterator Class som kan skrive ut Fibonacci-tallene mellom 0 og 1000"
   ]
  },
  {
   "cell_type": "code",
   "execution_count": 1,
   "metadata": {
    "pycharm": {
     "name": "#%%\n"
    }
   },
   "outputs": [],
   "source": [
    "class FiboIterator():\n",
    "    def __init__(self):\n",
    "        self.a = 0\n",
    "        self.b = 1\n",
    "        self.return_variable = 0\n",
    "\n",
    "    def __iter__(self):\n",
    "        return self\n",
    "\n",
    "    def __next__(self):\n",
    "        self.return_variable = self.a\n",
    "        while self.a < 1000:\n",
    "            self.a, self.b = self.b, self.a + self.b\n",
    "            return self.return_variable\n",
    "        raise StopIteration"
   ]
  },
  {
   "cell_type": "code",
   "execution_count": 2,
   "outputs": [
    {
     "name": "stdout",
     "output_type": "stream",
     "text": [
      "[0, 1, 1, 2, 3, 5, 8, 13, 21, 34, 55, 89, 144, 233, 377, 610, 987]\n"
     ]
    }
   ],
   "source": [
    "result = []\n",
    "for i in FiboIterator():\n",
    "    result.append(i)\n",
    "\n",
    "print(result)"
   ],
   "metadata": {
    "collapsed": false,
    "pycharm": {
     "name": "#%%\n"
    }
   }
  },
  {
   "cell_type": "raw",
   "metadata": {
    "pycharm": {
     "name": "#%% raw\n"
    }
   },
   "source": [
    "[0, 1, 1, 2, 3, 5, 8, 13, 21, 34, 55, 89, 144, 233, 377, 610, 987] #forventet output for oppgave 1"
   ]
  },
  {
   "cell_type": "raw",
   "metadata": {
    "pycharm": {
     "name": "#%% raw\n"
    }
   },
   "source": [
    "2: Lag en Generator Function som skriver ut Fibonacci-tallene mellom 0 og 1000"
   ]
  },
  {
   "cell_type": "code",
   "execution_count": 3,
   "metadata": {
    "pycharm": {
     "name": "#%%\n"
    }
   },
   "outputs": [
    {
     "name": "stdout",
     "output_type": "stream",
     "text": [
      "[0, 1, 1, 2, 3, 5, 8, 13, 21, 34, 55, 89, 144, 233, 377, 610, 987]\n"
     ]
    }
   ],
   "source": [
    "def fibo_generator(n):\n",
    "    a, b = 0, 1\n",
    "    while a < n:\n",
    "        yield a\n",
    "        a, b = b, a + b\n",
    "\n",
    "result = []\n",
    "for i in fibo_generator(1000):\n",
    "    result.append(i)\n",
    "print(result)"
   ]
  },
  {
   "cell_type": "raw",
   "metadata": {
    "pycharm": {
     "name": "#%% raw\n"
    }
   },
   "source": [
    "[0, 1, 1, 2, 3, 5, 8, 13, 21, 34, 55, 89, 144, 233, 377, 610, 987] #forventet output for oppgave 2"
   ]
  },
  {
   "cell_type": "raw",
   "metadata": {
    "pycharm": {
     "name": "#%% raw\n"
    }
   },
   "source": [
    "3: Lag en Class NewInt som arver fra int. Den skal ha en Instance Method is_fibonacci() som returnerer True om tallet er et Fibonacci-tall, False hvis ikke. Generer en liste med NewInt fra 0 til 1000. Lag så en List Comprehension som kun beholder tallene som er Fibonacci ved hjelp av klassen og instansmetoden du lagde."
   ]
  },
  {
   "cell_type": "code",
   "execution_count": 4,
   "metadata": {
    "pycharm": {
     "name": "#%%\n"
    }
   },
   "outputs": [],
   "source": [
    "class NewInt(int):\n",
    "    def __new__(cls, value):\n",
    "        created_object = super().__new__(cls, value)\n",
    "        return created_object\n",
    "\n",
    "    def __init__(self, value):\n",
    "        self.value = value\n",
    "\n",
    "    def is_fibonacci(self):\n",
    "        a, b = 0, 1\n",
    "        while a < self.value:\n",
    "            a, b = b, a + b\n",
    "        return a == self.value"
   ]
  },
  {
   "cell_type": "code",
   "execution_count": 5,
   "outputs": [
    {
     "name": "stdout",
     "output_type": "stream",
     "text": [
      "<class '__main__.NewInt'>\n",
      "[0, 1, 2, 3, 5, 8, 13, 21, 34, 55, 89, 144, 233, 377, 610, 987]\n"
     ]
    }
   ],
   "source": [
    "new_int_list = [NewInt(i) for i in range(0, 1001)]\n",
    "new_int_fib_list = [i for i in new_int_list if i.is_fibonacci()]\n",
    "print(new_int_fib_list)"
   ],
   "metadata": {
    "collapsed": false,
    "pycharm": {
     "name": "#%%\n"
    }
   }
  },
  {
   "cell_type": "raw",
   "metadata": {
    "pycharm": {
     "name": "#%% raw\n"
    }
   },
   "source": [
    "[0, 1, 2, 3, 5, 8, 13, 21, 34, 55, 89, 144, 233, 377, 610, 987] #forventet output for oppgave 3"
   ]
  },
  {
   "cell_type": "raw",
   "metadata": {
    "pycharm": {
     "name": "#%% raw\n"
    }
   },
   "source": [
    "4: Lag en liste int_list med NewInt fra 0 til 100 000. Lag deretter et set() fib_set med Fibonacci-tallene mellom 0 og 100 000 med fremgangsmåte du selv velger. Lag en List Comprehension som sjekker int_list mot fib_set. Sammenlign deretter performance mot klassen og metoden du lagde i oppgave 3 for å se hva som er raskest.  Tips: Sjekk performance med %%timeit i en notebook-celle."
   ]
  },
  {
   "cell_type": "code",
   "execution_count": 6,
   "metadata": {
    "pycharm": {
     "name": "#%%\n"
    }
   },
   "outputs": [],
   "source": [
    "int_list = [NewInt(i) for i in range(0, 100001)]\n",
    "fib_set = set([i for i in fibo_generator(100000)])"
   ]
  },
  {
   "cell_type": "code",
   "execution_count": 7,
   "outputs": [
    {
     "name": "stdout",
     "output_type": "stream",
     "text": [
      "198 ms ± 7.46 ms per loop (mean ± std. dev. of 7 runs, 10 loops each)\n"
     ]
    }
   ],
   "source": [
    "%%timeit #Oppgave 3\n",
    "int_fib_list_opg3 = [i for i in int_list if i.is_fibonacci()]"
   ],
   "metadata": {
    "collapsed": false,
    "pycharm": {
     "name": "#%%\n"
    }
   }
  },
  {
   "cell_type": "code",
   "execution_count": 8,
   "outputs": [
    {
     "name": "stdout",
     "output_type": "stream",
     "text": [
      "5.31 ms ± 125 µs per loop (mean ± std. dev. of 7 runs, 100 loops each)\n"
     ]
    }
   ],
   "source": [
    "%%timeit #Oppgave 4 List comprehension SET\n",
    "int_fib_list_opg4 = [i for i in int_list if i in fib_set]"
   ],
   "metadata": {
    "collapsed": false,
    "pycharm": {
     "name": "#%%\n"
    }
   }
  },
  {
   "cell_type": "raw",
   "metadata": {
    "pycharm": {
     "name": "#%% raw\n"
    }
   },
   "source": [
    "#List comprehension ved hjelp av Fib_Set er mye raskere. Klassen i Oppgave 3 må kjøre is_fibonacci while loop om og om igjen for hvert tall den sjekker."
   ]
  }
 ],
 "metadata": {
  "kernelspec": {
   "display_name": "Python 3",
   "language": "python",
   "name": "python3"
  },
  "language_info": {
   "codemirror_mode": {
    "name": "ipython",
    "version": 3
   },
   "file_extension": ".py",
   "mimetype": "text/x-python",
   "name": "python",
   "nbconvert_exporter": "python",
   "pygments_lexer": "ipython3",
   "version": "3.8.1"
  }
 },
 "nbformat": 4,
 "nbformat_minor": 4
}