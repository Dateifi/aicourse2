{
 "cells": [
  {
   "cell_type": "code",
   "execution_count": 1,
   "id": "7cda3561-fe15-4f45-8a02-9be0c41ffa53",
   "metadata": {},
   "outputs": [],
   "source": [
    "# Imports\n",
    "import random\n",
    "import string\n",
    "import time\n",
    "import numpy as np\n",
    "import matplotlib.pyplot as plt"
   ]
  },
  {
   "cell_type": "markdown",
   "id": "0ddb728f-4a1c-423c-8454-dea5e309ba21",
   "metadata": {},
   "source": [
    "# Exercise 1"
   ]
  },
  {
   "cell_type": "code",
   "execution_count": 2,
   "id": "c316df80-cbd5-428a-9481-683fd27e1485",
   "metadata": {},
   "outputs": [],
   "source": [
    "# Define a function which returns a random string of arbitrary length\n",
    "def random_string(length):\n",
    "    return ''.join(random.choices(string.ascii_lowercase,k=length))  "
   ]
  },
  {
   "cell_type": "code",
   "execution_count": 3,
   "id": "40e7c350-c42d-47a6-bc4e-88f1328e16a8",
   "metadata": {
    "tags": []
   },
   "outputs": [],
   "source": [
    "# Define a function which returns a string repeating the letter \"a\"\n",
    "def single_letter_string(length):\n",
    "    return 'a'*length"
   ]
  },
  {
   "cell_type": "code",
   "execution_count": 4,
   "id": "65fbc3dc-f51a-451f-b37b-d0b8682d65d9",
   "metadata": {},
   "outputs": [],
   "source": [
    "# Define a function which repeats a single letter except the first or last place\n",
    "def two_letter_string(length,first=True):\n",
    "    if length <= 1:\n",
    "        return None\n",
    "    else:\n",
    "        if first:\n",
    "            return 'b' + 'a'*(length-1)\n",
    "        else:\n",
    "            return 'a'*(length-1) + 'b'"
   ]
  },
  {
   "cell_type": "code",
   "execution_count": 5,
   "id": "e5f0142b-8d5c-47d3-bccd-6cfa496412c6",
   "metadata": {},
   "outputs": [
    {
     "name": "stdout",
     "output_type": "stream",
     "text": [
      "Random: drdyulyjptxmmtebfzou\n",
      "Single: aaaaaaaaaaaaaaaaaaaa\n",
      "Single except first: baaaaaaaaaaaaaaaaaaa\n",
      "Single except last: aaaaaaaaaaaaaaaaaaab\n"
     ]
    }
   ],
   "source": [
    "# Print example 20-letter strings\n",
    "print('Random: ' + random_string(20))\n",
    "print('Single: ' + single_letter_string(20))\n",
    "print('Single except first: ' + two_letter_string(20))\n",
    "print('Single except last: ' + two_letter_string(20,first=False))"
   ]
  },
  {
   "cell_type": "code",
   "execution_count": 6,
   "id": "790f883d-63cc-4aaf-a4a2-a68b16d70bb8",
   "metadata": {},
   "outputs": [],
   "source": [
    "def compare_string_experiment(s1,s2,k=10000):\n",
    "    \"\"\" Time the comparison of two strings, return time per comparison in ns\n",
    "    \"\"\"\n",
    "    start = time.perf_counter_ns()\n",
    "    for ii in range(k):\n",
    "        s1 == s2\n",
    "    end = time.perf_counter_ns()\n",
    "    \n",
    "    return (end - start)/k"
   ]
  },
  {
   "cell_type": "code",
   "execution_count": 7,
   "outputs": [],
   "source": [
    "def compare_dict(s1, s2, k=10000):\n",
    "    start = time.perf_counter_ns()\n",
    "    sdict ={}\n",
    "    sdict[s1] = 1\n",
    "    for ii in range(k):\n",
    "        try:\n",
    "           check_collision = sdict.get(s2)\n",
    "           if check_collision == 1:\n",
    "               print(\"Fail\")\n",
    "        except:\n",
    "            pass\n",
    "    end = time.perf_counter_ns()\n",
    "\n",
    "    return (end - start)/k"
   ],
   "metadata": {
    "collapsed": false
   }
  },
  {
   "cell_type": "code",
   "execution_count": 8,
   "id": "04d7c941-154f-4710-a77a-5e2be4b54a44",
   "metadata": {},
   "outputs": [],
   "source": [
    "# Compare different cases\n",
    "n_arr = np.arange(1000,100000,1000)\n",
    "t_dict = np.zeros(n_arr.shape)      # Array of string lengths to test\n",
    "t_ident = np.zeros(n_arr.shape)      # Time array for two identical strings\n",
    "t_diffstart = np.zeros(n_arr.shape)  # Time array for strings where only first letter differs\n",
    "t_diffend = np.zeros(n_arr.shape)    # Time array for strings where only first letter differs\n",
    "t_random = np.zeros(n_arr.shape)     # Time array for two random strings\n",
    "\n",
    "for i,n in enumerate(n_arr):  \n",
    "    s_single1 = single_letter_string(n)               # n-length string with only the letter 'a'\n",
    "    s_single2 = single_letter_string(n)               # n-length string with only the letter 'a'\n",
    "    s_diffstart = two_letter_string(n)                # n-length string with first letter 'b', rest 'a'\n",
    "    s_diffend = two_letter_string(n,first=False)      # n-length string with first letter 'a', rest 'b'\n",
    "    s_random1 = random_string(n)                      # n-length string with random letters\n",
    "    s_random2 = random_string(n)\n",
    "\n",
    "                                   # n-length string with random letters\n",
    "\n",
    "    t_dict[i] = compare_dict(s_single1, s_diffend)\n",
    "    t_ident[i] = compare_string_experiment(s_single1,s_single2)\n",
    "#    t_ident[i] = compare_string_experiment(s_single1,s_single1)\n",
    "    t_diffstart[i] = compare_string_experiment(s_single1,s_diffstart)\n",
    "    t_diffend[i] = compare_string_experiment(s_single1,s_diffend)\n",
    "    t_random[i] = compare_string_experiment(s_random1,s_random2)\n"
   ]
  },
  {
   "cell_type": "code",
   "execution_count": 9,
   "id": "0b23e81e-1ae8-4d76-b59d-218fee1a12f2",
   "metadata": {},
   "outputs": [
    {
     "data": {
      "text/plain": "Text(0, 0.5, 'String comparison time [ns]')"
     },
     "execution_count": 9,
     "metadata": {},
     "output_type": "execute_result"
    },
    {
     "data": {
      "text/plain": "<Figure size 432x288 with 1 Axes>",
      "image/png": "[encoded data removed]"
     },
     "metadata": {
      "needs_background": "light"
     },
     "output_type": "display_data"
    }
   ],
   "source": [
    "# Plot results\n",
    "plt.plot(n_arr,t_ident,label = 'Two identical strings')\n",
    "#plt.plot(n_arr,t_diffstart, label = 'First letter different')\n",
    "plt.plot(n_arr,t_diffend, label = 'Last letter different')\n",
    "#plt.plot(n_arr,t_random, label = 'Two random strings')\n",
    "plt.plot(n_arr,t_dict, label = 'Dictionary key, last different')\n",
    "plt.legend()\n",
    "plt.xlabel('String length')\n",
    "plt.ylabel('String comparison time [ns]')"
   ]
  },
  {
   "cell_type": "code",
   "execution_count": 10,
   "id": "4dd89771-20f5-42fa-b82f-c1fd83c60c84",
   "metadata": {},
   "outputs": [
    {
     "data": {
      "text/plain": "array([ 1000,  2000,  3000,  4000,  5000,  6000,  7000,  8000,  9000,\n       10000, 11000, 12000, 13000, 14000, 15000, 16000, 17000, 18000,\n       19000, 20000, 21000, 22000, 23000, 24000, 25000, 26000, 27000,\n       28000, 29000, 30000, 31000, 32000, 33000, 34000, 35000, 36000,\n       37000, 38000, 39000, 40000, 41000, 42000, 43000, 44000, 45000,\n       46000, 47000, 48000, 49000, 50000, 51000, 52000, 53000, 54000,\n       55000, 56000, 57000, 58000, 59000, 60000, 61000, 62000, 63000,\n       64000, 65000, 66000, 67000, 68000, 69000, 70000, 71000, 72000,\n       73000, 74000, 75000, 76000, 77000, 78000, 79000, 80000, 81000,\n       82000, 83000, 84000, 85000, 86000, 87000, 88000, 89000, 90000,\n       91000, 92000, 93000, 94000, 95000, 96000, 97000, 98000, 99000])"
     },
     "execution_count": 10,
     "metadata": {},
     "output_type": "execute_result"
    }
   ],
   "source": [
    "n_arr"
   ]
  },
  {
   "cell_type": "markdown",
   "id": "72f85dca-7890-4d06-8291-8d0b1af30cba",
   "metadata": {},
   "source": [
    "The results show that when the strings are identical (but still different objects), and when the last letter is different, comparison time increases approximately linearly with string length. When the first letter of the string is different, or when the two strings are random (almost all letters are different), comparison time appears to be approximately independent of string length. This indicates that the comparison starts at the beginning of the string and stops as soon as two different characters are found. "
   ]
  },
  {
   "cell_type": "markdown",
   "id": "fe6980de-0386-4ab6-830d-9a47d3dd9160",
   "metadata": {},
   "source": [
    "# Exercise 2"
   ]
  },
  {
   "cell_type": "code",
   "execution_count": 11,
   "id": "cfdabce4-c16a-42e2-8742-691a0b7a1e8a",
   "metadata": {},
   "outputs": [],
   "source": [
    "# Define a function which generates an arbitrary-length random integer number\n",
    "def random_number(n):\n",
    "    digits = string.digits\n",
    "    random_num_string = random.choices(digits[1:]) + random.choices(digits,k=(n-1))\n",
    "    return int(''.join(random_num_string))"
   ]
  },
  {
   "cell_type": "code",
   "execution_count": 12,
   "id": "154609eb-a45c-4638-94ba-d8826e2e3b8e",
   "metadata": {},
   "outputs": [
    {
     "data": {
      "text/plain": "3736325240158292216537359"
     },
     "execution_count": 12,
     "metadata": {},
     "output_type": "execute_result"
    }
   ],
   "source": [
    "random_number(25)"
   ]
  },
  {
   "cell_type": "code",
   "execution_count": 13,
   "id": "01b95226-0527-45d5-b1dd-146046b2bc99",
   "metadata": {},
   "outputs": [],
   "source": [
    "n_arr = np.arange(100,10000,100)\n",
    "t_arr = np.zeros(n_arr.shape)\n",
    "k_repeat = 100\n",
    "\n",
    "for i,n in enumerate(n_arr):\n",
    "    num1 = random_number(n)\n",
    "    num2 = random_number(n)\n",
    "    \n",
    "    start = time.perf_counter_ns()\n",
    "    for j in range(k_repeat):\n",
    "        num1*num2\n",
    "        \n",
    "    end = time.perf_counter_ns()\n",
    "    t_arr[i] = (end - start)/k_repeat"
   ]
  },
  {
   "cell_type": "code",
   "execution_count": 14,
   "id": "420d9c80-9847-4b50-9ae2-c8a7d656b953",
   "metadata": {},
   "outputs": [
    {
     "data": {
      "text/plain": "Text(0, 0.5, 'Multiplication processing time [ns]')"
     },
     "execution_count": 14,
     "metadata": {},
     "output_type": "execute_result"
    },
    {
     "data": {
      "text/plain": "<Figure size 432x288 with 1 Axes>",
      "image/png": "[encoded data removed]"
     },
     "metadata": {
      "needs_background": "light"
     },
     "output_type": "display_data"
    }
   ],
   "source": [
    "# Plot results of experiment\n",
    "plt.plot(n_arr,t_arr)\n",
    "plt.xlabel('Number of digits in both numbers')\n",
    "plt.ylabel('Multiplication processing time [ns]')"
   ]
  },
  {
   "cell_type": "markdown",
   "id": "59f33405-6245-44f2-96d8-cb692b2e077c",
   "metadata": {},
   "source": [
    "Processing time increases with the number of digits. The increase is more than linear. O(n^2)? "
   ]
  }
 ],
 "metadata": {
  "kernelspec": {
   "display_name": "Python 3 (ipykernel)",
   "language": "python",
   "name": "python3"
  },
  "language_info": {
   "codemirror_mode": {
    "name": "ipython",
    "version": 3
   },
   "file_extension": ".py",
   "mimetype": "text/x-python",
   "name": "python",
   "nbconvert_exporter": "python",
   "pygments_lexer": "ipython3",
   "version": "3.9.12"
  }
 },
 "nbformat": 4,
 "nbformat_minor": 5
}
