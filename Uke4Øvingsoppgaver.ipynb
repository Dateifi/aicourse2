{
 "cells": [
  {
   "cell_type": "code",
   "execution_count": 152,
   "metadata": {
    "collapsed": true,
    "pycharm": {
     "name": "#%%\n"
    }
   },
   "outputs": [],
   "source": [
    "import random\n",
    "import string\n",
    "import time\n",
    "\n",
    "\n",
    "def random_string_list(length):\n",
    "    string_list = []\n",
    "    for _ in range(length):\n",
    "        string_list.append(''.join(random.choice(string.ascii_letters) for _ in range(10)))\n",
    "    return string_list"
   ]
  },
  {
   "cell_type": "code",
   "execution_count": 153,
   "outputs": [],
   "source": [
    "def insertion_sort(string_list):\n",
    "    for i in range(1, len(string_list)):\n",
    "        j = i\n",
    "        while j > 0 and string_list[j - 1] > string_list[j]:\n",
    "            string_list[j - 1], string_list[j] = string_list[j], string_list[j - 1]\n",
    "            j -= 1\n"
   ],
   "metadata": {
    "collapsed": false,
    "pycharm": {
     "name": "#%%\n"
    }
   }
  },
  {
   "cell_type": "code",
   "execution_count": 154,
   "outputs": [],
   "source": [
    "def merge_sort(array, left_index, right_index):\n",
    "    if left_index >= right_index:\n",
    "        return\n",
    "\n",
    "    middle = (left_index + right_index)//2\n",
    "    merge_sort(array, left_index, middle)\n",
    "    merge_sort(array, middle + 1, right_index)\n",
    "    merge(array, left_index, right_index, middle)\n",
    "\n",
    "def merge(array, left_index, right_index, middle):\n",
    "    # Make copies of both arrays we're trying to merge\n",
    "\n",
    "    # The second parameter is non-inclusive, so we have to increase by 1\n",
    "    left_copy = array[left_index:middle + 1]\n",
    "    right_copy = array[middle+1:right_index+1]\n",
    "\n",
    "    # Initial values for variables that we use to keep\n",
    "    # track of where we are in each array\n",
    "    left_copy_index = 0\n",
    "    right_copy_index = 0\n",
    "    sorted_index = left_index\n",
    "\n",
    "    # Go through both copies until we run out of elements in one\n",
    "    while left_copy_index < len(left_copy) and right_copy_index < len(right_copy):\n",
    "\n",
    "        # If our left_copy has the smaller element, put it in the sorted\n",
    "        # part and then move forward in left_copy (by increasing the pointer)\n",
    "        if left_copy[left_copy_index] <= right_copy[right_copy_index]:\n",
    "            array[sorted_index] = left_copy[left_copy_index]\n",
    "            left_copy_index = left_copy_index + 1\n",
    "        # Opposite from above\n",
    "        else:\n",
    "            array[sorted_index] = right_copy[right_copy_index]\n",
    "            right_copy_index = right_copy_index + 1\n",
    "\n",
    "        # Regardless of where we got our element from\n",
    "        # move forward in the sorted part\n",
    "        sorted_index = sorted_index + 1\n",
    "\n",
    "    # We ran out of elements either in left_copy or right_copy\n",
    "    # so we will go through the remaining elements and add them\n",
    "    while left_copy_index < len(left_copy):\n",
    "        array[sorted_index] = left_copy[left_copy_index]\n",
    "        left_copy_index = left_copy_index + 1\n",
    "        sorted_index = sorted_index + 1\n",
    "\n",
    "    while right_copy_index < len(right_copy):\n",
    "        array[sorted_index] = right_copy[right_copy_index]\n",
    "        right_copy_index = right_copy_index + 1\n",
    "        sorted_index = sorted_index + 1"
   ],
   "metadata": {
    "collapsed": false,
    "pycharm": {
     "name": "#%%\n"
    }
   }
  },
  {
   "cell_type": "code",
   "execution_count": 155,
   "outputs": [],
   "source": [
    "#list_100 = random_string_list(100)\n",
    "#list_1000 = random_string_list(1000)\n",
    "list_100 = random_string_list(100)\n",
    "#m_list = list_1000000\n",
    "#i_list = list_1000000"
   ],
   "metadata": {
    "collapsed": false,
    "pycharm": {
     "name": "#%%\n"
    }
   }
  },
  {
   "cell_type": "markdown",
   "source": [
    "merge_sort(m_list, 0, 99999)\n",
    "insertion_sort_list = insertion_sort(i_list)\n",
    "print(m_list[0:5])\n",
    "print(insertion_sort_list[0:5])"
   ],
   "metadata": {
    "collapsed": false,
    "pycharm": {
     "name": "#%% md\n"
    }
   }
  },
  {
   "cell_type": "code",
   "execution_count": 156,
   "outputs": [
    {
     "name": "stdout",
     "output_type": "stream",
     "text": [
      "675100\n"
     ]
    }
   ],
   "source": [
    "\n",
    "start = time.perf_counter_ns()\n",
    "insertion_sort(list_100)\n",
    "end = time.perf_counter_ns()\n",
    "\n",
    "print(end-start)"
   ],
   "metadata": {
    "collapsed": false,
    "pycharm": {
     "name": "#%%\n"
    }
   }
  },
  {
   "cell_type": "code",
   "execution_count": 157,
   "outputs": [
    {
     "name": "stdout",
     "output_type": "stream",
     "text": [
      "2631500\n"
     ]
    }
   ],
   "source": [
    "start = time.perf_counter_ns()\n",
    "merge_sort(list_100, 0, 999)\n",
    "end = time.perf_counter_ns()\n",
    "\n",
    "print(end-start)"
   ],
   "metadata": {
    "collapsed": false,
    "pycharm": {
     "name": "#%%\n"
    }
   }
  },
  {
   "cell_type": "code",
   "execution_count": 157,
   "outputs": [],
   "source": [],
   "metadata": {
    "collapsed": false,
    "pycharm": {
     "name": "#%%\n"
    }
   }
  }
 ],
 "metadata": {
  "kernelspec": {
   "display_name": "Python 3",
   "language": "python",
   "name": "python3"
  },
  "language_info": {
   "codemirror_mode": {
    "name": "ipython",
    "version": 2
   },
   "file_extension": ".py",
   "mimetype": "text/x-python",
   "name": "python",
   "nbconvert_exporter": "python",
   "pygments_lexer": "ipython2",
   "version": "2.7.6"
  }
 },
 "nbformat": 4,
 "nbformat_minor": 0
}