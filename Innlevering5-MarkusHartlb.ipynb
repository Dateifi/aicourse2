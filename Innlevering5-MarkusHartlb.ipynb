{
 "cells": [
  {
   "cell_type": "code",
   "execution_count": 17,
   "metadata": {
    "collapsed": true
   },
   "outputs": [],
   "source": [
    "import warnings\n",
    "from binarytree import Node\n",
    "\n",
    "\n",
    "class BinarySearchTree():\n",
    "    # Initialize the tree\n",
    "    def __init__(self, root=None):\n",
    "        self.root = root\n",
    "        # Check if root is a valid Node\n",
    "        if isinstance(self.root, Node):\n",
    "            if not self.validate_node(self.root):\n",
    "                raise ValueError(\"Node has invalids branches/leafs for a search tree\")\n",
    "        elif self.root is not None:\n",
    "            raise ValueError(\"Root must be a Node or None\")\n",
    "\n",
    "    # Insert a new node into the tree\n",
    "    def insert(self, value):\n",
    "        if self.root is None:\n",
    "            self.root = Node(value)\n",
    "            return\n",
    "\n",
    "        current = self.root\n",
    "        while True:\n",
    "            if value == current.value:\n",
    "                warnings.warn(\"Value already exists in tree\")\n",
    "                return\n",
    "            elif value < current.value:\n",
    "                if current.left is None:\n",
    "                    current.left = Node(value)\n",
    "                    return\n",
    "                current = current.left\n",
    "            else:\n",
    "                if current.right is None:\n",
    "                    current.right = Node(value)\n",
    "                    return\n",
    "                current = current.right\n",
    "\n",
    "    # Find a node in the tree\n",
    "    def find(self, value=None):\n",
    "        if value is None:\n",
    "            warnings.warn(\"No value given or value is None\")\n",
    "            return None\n",
    "\n",
    "        level = 0\n",
    "        current = self.root\n",
    "        while current is not None:\n",
    "            if value == current.value:\n",
    "                return current, level\n",
    "            elif value < current.value:\n",
    "                current = current.left\n",
    "                level += 1\n",
    "            else:\n",
    "                current = current.right\n",
    "                level += 1\n",
    "        raise KeyError(\"Value not found in tree\")\n",
    "\n",
    "    # Helper function to find inorder successor for delete function\n",
    "    def find_min(self, node):\n",
    "        if node is None:\n",
    "            return None\n",
    "        while node.left:\n",
    "            node = node.left\n",
    "        return node\n",
    "\n",
    "    # Delete a node from the tree\n",
    "    def delete(self, value=None):\n",
    "        if value is None:\n",
    "            warnings.warn(\"No value given or value is None\")\n",
    "            return\n",
    "        if self.root is None:\n",
    "            raise KeyError(\"Cannot delete from empty tree\")\n",
    "\n",
    "        # Save and update parent and current references\n",
    "        parent = None\n",
    "        current = self.root\n",
    "\n",
    "        while current and current.value != value:\n",
    "            parent = current\n",
    "            if value < current.value:\n",
    "                current = current.left\n",
    "            else:\n",
    "                current = current.right\n",
    "\n",
    "        if current is None:\n",
    "            raise KeyError(\"Value not found in tree\")\n",
    "\n",
    "        # Node is a leaf node (no children), if it is the root node, set root to None, otherwise set\n",
    "        # parent.left/right reference to None\n",
    "        if current.left is None and current.right is None:\n",
    "            if parent is None:\n",
    "                self.root = None\n",
    "            elif parent.left == current:\n",
    "                parent.left = None\n",
    "            else:\n",
    "                parent.right = None\n",
    "\n",
    "        # Node has 2 children, find the inorder successor and replace the current node with it\n",
    "        elif current.left and current.right:\n",
    "            successor = self.find_min(current.right)\n",
    "            succ_value = successor.value\n",
    "            self.delete(successor.value)\n",
    "            current.value = succ_value\n",
    "\n",
    "        # Node has one child, if it is the root node, set root to the child, otherwise set parent.left/right\n",
    "        # reference to the child\n",
    "        else:\n",
    "            if current.left:\n",
    "                child = current.left\n",
    "            else:\n",
    "                child = current.right\n",
    "\n",
    "            if parent is None:\n",
    "                self.root = child\n",
    "            elif parent.left == current:\n",
    "                parent.left = child\n",
    "            else:\n",
    "                parent.right = child\n",
    "\n",
    "    def validate_node(self, node=None):\n",
    "        if node is None:\n",
    "            node = self.root\n",
    "\n",
    "        if node.left is not None:\n",
    "            if node.left.value > node.value:\n",
    "                return False\n",
    "            if not self.validate_node(node.left):\n",
    "                return False\n",
    "\n",
    "        if node.right is not None:\n",
    "            if node.right.value < node.value:\n",
    "                return False\n",
    "            if not self.validate_node(node.right):\n",
    "                return False\n",
    "\n",
    "        return True\n",
    "\n",
    "    def level(self, value):\n",
    "        if value is None and self.root is None:\n",
    "            warnings.warn(\"No value given and tree is empty\")\n",
    "            return 0\n",
    "        elif value is None:\n",
    "            warnings.warn(\"No value specified, using root node\")\n",
    "            return 0\n",
    "\n",
    "        else:\n",
    "            return self.find(value)[1]\n"
   ]
  },
  {
   "cell_type": "code",
   "execution_count": 18,
   "outputs": [
    {
     "name": "stdout",
     "output_type": "stream",
     "text": [
      "\n",
      "      ____7__________\n",
      "     /               \\\n",
      "    4__         ______13\n",
      "   /   \\       /        \\\n",
      "  2     6     9          15\n",
      " /     /     / \\\n",
      "1     5     8   11\n",
      "                  \\\n",
      "                   12\n",
      "\n"
     ]
    }
   ],
   "source": [
    "t = BinarySearchTree()\n",
    "t.insert(7)\n",
    "t.insert(4)\n",
    "t.insert(13)\n",
    "t.insert(2)\n",
    "t.insert(6)\n",
    "t.insert(9)\n",
    "t.insert(15)\n",
    "t.insert(5)\n",
    "t.insert(1)\n",
    "t.insert(8)\n",
    "t.insert(11)\n",
    "t.insert(12)\n",
    "\n",
    "print(t.root)\n"
   ],
   "metadata": {
    "collapsed": false
   }
  },
  {
   "cell_type": "code",
   "execution_count": 19,
   "outputs": [
    {
     "name": "stdout",
     "output_type": "stream",
     "text": [
      "\n",
      "    __8_____\n",
      "   /        \\\n",
      "  5       ___13\n",
      " / \\     /     \\\n",
      "2   6   9       15\n",
      "         \\\n",
      "          12\n",
      "\n"
     ]
    }
   ],
   "source": [
    "t.delete(1)\n",
    "t.delete(11)\n",
    "t.delete(4)\n",
    "t.delete(7)\n",
    "\n",
    "\n",
    "print(t.root)"
   ],
   "metadata": {
    "collapsed": false
   }
  },
  {
   "cell_type": "code",
   "execution_count": 39,
   "outputs": [
    {
     "name": "stdout",
     "output_type": "stream",
     "text": [
      "1\n",
      "3\n",
      "7\n",
      "13\n",
      "16\n",
      "17\n"
     ]
    }
   ],
   "source": [
    "personer_tree = BinarySearchTree()\n",
    "\n",
    "personer = []\n",
    "with open('Personer.dta', encoding=\"ISO-8859-1\") as f:\n",
    "    for line in f:\n",
    "        line = line.rstrip().split(\";\")\n",
    "        personer.append(line[0] + \" - \" + line[1] + \" - \" + line[2] + \" - \" + line[3] + \" - \" + line[4])\n",
    "\n",
    "for person in personer:\n",
    "    personer_tree.insert(person)\n",
    "\n",
    "\n",
    "\n",
    "result1 = personer_tree.level(\"KRISTIANSEN - MORTEN KRISTIAN - LEINAHYTTA 36 - 7224 - MELHUS\")\n",
    "print(result1+1)\n",
    "result10 = personer_tree.level(\"ELI - RITA HELEN - MEHEIAVEGEN 80 - 4436 - GYLAND\")\n",
    "print(result10+1)\n",
    "result100 = personer_tree.level(\"VIDNES - PER-TORE - NESBU 67 - 3185 - HORTEN\")\n",
    "print(result100+1)\n",
    "result1000 = personer_tree.level(\"LØBAKKEN - ODD KENNETH - FOSSTUN 9 - 5259 - HJELLESTAD\")\n",
    "print(result1000+1)\n",
    "result10000 = personer_tree.level(\"HUSBY - DAG HELGE - VALDE 32 - 4353 - KLEPP STASJON\")\n",
    "print(result10000+1)\n",
    "result100000 = personer_tree.level(\"NYRUD - ERIK NORØ - GJERDHAUGVEGEN 3 - 6512 - KRISTIANSUND N\")\n",
    "print(result100000+1)\n"
   ],
   "metadata": {
    "collapsed": false
   }
  },
  {
   "cell_type": "code",
   "execution_count": 38,
   "outputs": [
    {
     "name": "stdout",
     "output_type": "stream",
     "text": [
      "17\n",
      "4\n",
      "KRISTIANSEN - MORTEN KRISTIAN - LEINAHYTTA 36 - 7224 - MELHUS\n",
      "OLDERVIK - SHARI LILL - KRÆKA 84 - 5948 - FEDJE\n",
      "NYMANN - ROY-ØYSTEIN - HÅNESET 77 - 7033 - TRONDHEIM\n",
      "VESTLY SKIVIK - JAHN FREDRIK - LINNGÅRD 22 - 1451 - NESODDTANGEN\n",
      "REMLO - KIM ANDRE - SANDFLATA 71 - 5648 - HOLMEFJORD\n",
      "ØSTBY - FRANK - WÅRSETH 57 - 7414 - TRONDHEIM\n",
      "ØVREVALLE - TORGEIR STEINAR - HENJASANDEN 115 - 5393 - STOREBØ\n",
      "WOLD - KARL-EIRIK - RYDNINGEN NEDRE 52 - 2211 - KONGSVINGER\n",
      "AAKVIK - ANETTE - BAKLIEN 11 - 1360 - NESBRU\n"
     ]
    }
   ],
   "source": [
    "anette = personer_tree.find(\"AAKVIK - ANETTE - BAKLIEN 11 - 1360 - NESBRU\")\n",
    "print(anette[1]+1)\n",
    "frank = personer_tree.find(\"ØSTBY - FRANK - WÅRSETH 57 - 7414 - TRONDHEIM\")\n",
    "print(frank[1]+1)\n",
    "\n",
    "print(personer_tree.root.value)\n",
    "print(personer_tree.root.right.value)\n",
    "print(personer_tree.root.right.left.value)\n",
    "print(personer_tree.root.right.right.value)\n",
    "print(personer_tree.root.right.right.left.value)\n",
    "print(personer_tree.root.right.right.right.value)\n",
    "print(personer_tree.root.right.right.right.right.value)\n",
    "print(personer_tree.root.right.right.right.left.value)\n",
    "\n",
    "print(personer_tree.root.left.left.left.left.left.left.left.left.left.left.left.left.left.left.left.left.value)"
   ],
   "metadata": {
    "collapsed": false
   }
  },
  {
   "cell_type": "code",
   "execution_count": null,
   "outputs": [],
   "source": [],
   "metadata": {
    "collapsed": false
   }
  }
 ],
 "metadata": {
  "kernelspec": {
   "display_name": "Python 3",
   "language": "python",
   "name": "python3"
  },
  "language_info": {
   "codemirror_mode": {
    "name": "ipython",
    "version": 2
   },
   "file_extension": ".py",
   "mimetype": "text/x-python",
   "name": "python",
   "nbconvert_exporter": "python",
   "pygments_lexer": "ipython2",
   "version": "2.7.6"
  }
 },
 "nbformat": 4,
 "nbformat_minor": 0
}
