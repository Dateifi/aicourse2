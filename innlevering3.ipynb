{
 "cells": [
  {
   "cell_type": "raw",
   "metadata": {
    "pycharm": {
     "name": "#%% raw\n"
    }
   },
   "source": [
    "1: Filen \"Personer.dta\" skal leses inn i en list persons. Filen inneholder 100 000 rader med fiktive personalia på formatet \"etternavn;fornavn;adresse;postnummer;poststed\". Dette skal gjøres i native Python, dvs. Numpy/Pandas eller andre libs skal ikke brukes. Legg hver rad inn i en passende datastruktur, feks. tuple, dict, list eller namedtuple. Skriv så ut de 5 siste radene i en celle."
   ]
  },
  {
   "cell_type": "code",
   "execution_count": 24,
   "metadata": {
    "pycharm": {
     "name": "#%%\n"
    }
   },
   "outputs": [],
   "source": [
    "from collections import namedtuple\n",
    "\n",
    "Person = namedtuple('Person', [\"Etternavn\", \"Fornavn\", \"Adresse\", \"Postnummer\", \"Poststed\"])\n",
    "personer = []\n",
    "with open('Personer.dta', encoding=\"ISO-8859-1\") as f:\n",
    "    for line in f:\n",
    "        line = line.rstrip().split(\";\")\n",
    "        personer.append(Person(line[0], line[1], line[2], line[3], line[4]))\n",
    "\n"
   ]
  },
  {
   "cell_type": "code",
   "execution_count": 25,
   "outputs": [
    {
     "name": "stdout",
     "output_type": "stream",
     "text": [
      "STORLIEN Hans-Magnus            Tallsletta 57                  3849 - Vråliosen\n",
      "ASAIPPILLAI Jo Gudbrand         Bergerud 68                    4371 - Egersund\n",
      "TOLLEFSEN Zulfiqar Ali          Eirik Jarls Gate 79            1305 - Haslum\n",
      "ELI Knut Olaf                   Rustad S 14                    9775 - Gamvik\n",
      "NYRUD Erik Norø                 Gjerdhaugvegen 3               6512 - Kristiansund N\n"
     ]
    }
   ],
   "source": [
    "result = personer[-5:]\n",
    "\n",
    "for person in result:\n",
    "    print(f\"{person[0] + ' ' + person[1].lower().title():<30}  {person[2].lower().title():<30} {person[3]} - {person[4].lower().title()}\")"
   ],
   "metadata": {
    "collapsed": false,
    "pycharm": {
     "name": "#%%\n"
    }
   }
  },
  {
   "cell_type": "raw",
   "metadata": {
    "pycharm": {
     "name": "#%% raw\n"
    }
   },
   "source": [
    "2: Hvor mange unike postnummer finnes i \"Personer.dta\"?"
   ]
  },
  {
   "cell_type": "code",
   "execution_count": 26,
   "metadata": {
    "pycharm": {
     "name": "#%%\n"
    }
   },
   "outputs": [
    {
     "name": "stdout",
     "output_type": "stream",
     "text": [
      "2824\n"
     ]
    }
   ],
   "source": [
    "unike_postnummer = set()\n",
    "for person in personer:\n",
    "    unike_postnummer.add(person[3])\n",
    "\n",
    "print(len(unike_postnummer))"
   ]
  },
  {
   "cell_type": "raw",
   "metadata": {
    "pycharm": {
     "name": "#%% raw\n"
    }
   },
   "source": [
    "3: Hva er de 10 vanligste etternavnene (som forekommer flest ganger) i \"Personer.dta\"?"
   ]
  },
  {
   "cell_type": "code",
   "execution_count": 27,
   "metadata": {
    "pycharm": {
     "name": "#%%\n"
    }
   },
   "outputs": [
    {
     "name": "stdout",
     "output_type": "stream",
     "text": [
      "{'LAM': 75, 'KRANGSÅS': 75, 'IGLAND': 75, 'MJØEN': 76, 'DANIELSEN': 77, 'LUTHER': 77, 'TRANE': 77, 'LUNDBERGSEN': 77, 'BERGERSEN': 78, 'ÅSBAKK': 83}\n"
     ]
    }
   ],
   "source": [
    "vanligste_etternavnene = {}\n",
    "for person in personer:\n",
    "    vanligste_etternavnene[person[0]] = vanligste_etternavnene.get(person[0], 0) + 1\n",
    "\n",
    "result = dict(sorted([(k,v) for k, v in vanligste_etternavnene.items()], key=lambda x: x[1])[-10:])\n",
    "print(result)"
   ]
  },
  {
   "cell_type": "code",
   "execution_count": 28,
   "outputs": [
    {
     "data": {
      "text/plain": "Person(Etternavn='AAKVIK', Fornavn='ANETTE', Adresse='BAKLIEN 11', Postnummer='1360', Poststed='NESBRU')"
     },
     "execution_count": 28,
     "metadata": {},
     "output_type": "execute_result"
    }
   ],
   "source": [
    "import heapq\n",
    "\n",
    "h = []\n",
    "for person in personer:\n",
    "    heapq.heappush(h, person)\n",
    "\n",
    "heapq.heappop(h)\n",
    "\n"
   ],
   "metadata": {
    "collapsed": false,
    "pycharm": {
     "name": "#%%\n"
    }
   }
  },
  {
   "cell_type": "raw",
   "metadata": {
    "pycharm": {
     "name": "#%% raw\n"
    }
   },
   "source": [
    "4: Implementer sorteringsalgoritmen Heap Sort og sorter listen \"persons\" ut fra etternavn. Ferdig implementerte funksjoner som sorted() skal ikke benyttes. Skriv så ut persondata for de fem personene med index [0,20000,40000,60000,80000] fra den sorterte listen."
   ]
  },
  {
   "cell_type": "code",
   "execution_count": 29,
   "metadata": {
    "pycharm": {
     "name": "#%%\n"
    }
   },
   "outputs": [
    {
     "ename": "IndexError",
     "evalue": "list index out of range",
     "output_type": "error",
     "traceback": [
      "\u001B[1;31m---------------------------------------------------------------------------\u001B[0m",
      "\u001B[1;31mIndexError\u001B[0m                                Traceback (most recent call last)",
      "Input \u001B[1;32mIn [29]\u001B[0m, in \u001B[0;36m<module>\u001B[1;34m\u001B[0m\n\u001B[0;32m     52\u001B[0m \u001B[38;5;28;01mfor\u001B[39;00m person \u001B[38;5;129;01min\u001B[39;00m personer:\n\u001B[0;32m     53\u001B[0m     person_heap\u001B[38;5;241m.\u001B[39mheap_push(person)\n\u001B[1;32m---> 57\u001B[0m sorted_list \u001B[38;5;241m=\u001B[39m \u001B[43mperson_heap\u001B[49m\u001B[38;5;241;43m.\u001B[39;49m\u001B[43mheap_sort\u001B[49m\u001B[43m(\u001B[49m\u001B[43m)\u001B[49m\n\u001B[0;32m     58\u001B[0m \u001B[38;5;28;01mfor\u001B[39;00m i \u001B[38;5;129;01min\u001B[39;00m \u001B[38;5;28mrange\u001B[39m(\u001B[38;5;241m0\u001B[39m, \u001B[38;5;241m100000\u001B[39m, \u001B[38;5;241m20000\u001B[39m):\n\u001B[0;32m     59\u001B[0m     \u001B[38;5;28mprint\u001B[39m(\u001B[38;5;124mf\u001B[39m\u001B[38;5;124m\"\u001B[39m\u001B[38;5;132;01m{\u001B[39;00msorted_list[i][\u001B[38;5;241m0\u001B[39m] \u001B[38;5;241m+\u001B[39m \u001B[38;5;124m'\u001B[39m\u001B[38;5;124m \u001B[39m\u001B[38;5;124m'\u001B[39m \u001B[38;5;241m+\u001B[39m sorted_list[i][\u001B[38;5;241m1\u001B[39m]\u001B[38;5;241m.\u001B[39mlower()\u001B[38;5;241m.\u001B[39mtitle()\u001B[38;5;132;01m:\u001B[39;00m\u001B[38;5;124m<30\u001B[39m\u001B[38;5;132;01m}\u001B[39;00m\u001B[38;5;124m  \u001B[39m\u001B[38;5;132;01m{\u001B[39;00msorted_list[i][\u001B[38;5;241m2\u001B[39m]\u001B[38;5;241m.\u001B[39mlower()\u001B[38;5;241m.\u001B[39mtitle()\u001B[38;5;132;01m:\u001B[39;00m\u001B[38;5;124m<30\u001B[39m\u001B[38;5;132;01m}\u001B[39;00m\u001B[38;5;124m \u001B[39m\u001B[38;5;132;01m{\u001B[39;00msorted_list[i][\u001B[38;5;241m3\u001B[39m]\u001B[38;5;132;01m}\u001B[39;00m\u001B[38;5;124m - \u001B[39m\u001B[38;5;132;01m{\u001B[39;00msorted_list[i][\u001B[38;5;241m4\u001B[39m]\u001B[38;5;241m.\u001B[39mlower()\u001B[38;5;241m.\u001B[39mtitle()\u001B[38;5;132;01m}\u001B[39;00m\u001B[38;5;124m\"\u001B[39m)\n",
      "Input \u001B[1;32mIn [29]\u001B[0m, in \u001B[0;36mMin_Heap.heap_sort\u001B[1;34m(self)\u001B[0m\n\u001B[0;32m     45\u001B[0m current \u001B[38;5;241m=\u001B[39m \u001B[38;5;28mself\u001B[39m\u001B[38;5;241m.\u001B[39mcur_size\n\u001B[0;32m     46\u001B[0m \u001B[38;5;28;01mfor\u001B[39;00m i \u001B[38;5;129;01min\u001B[39;00m \u001B[38;5;28mrange\u001B[39m(\u001B[38;5;28mself\u001B[39m\u001B[38;5;241m.\u001B[39mcur_size):\n\u001B[1;32m---> 47\u001B[0m     sorted_list\u001B[38;5;241m.\u001B[39mappend(\u001B[38;5;28;43mself\u001B[39;49m\u001B[38;5;241;43m.\u001B[39;49m\u001B[43mheap_pop\u001B[49m\u001B[43m(\u001B[49m\u001B[43m)\u001B[49m)\n\u001B[0;32m     48\u001B[0m \u001B[38;5;28;01mreturn\u001B[39;00m sorted_list\n",
      "Input \u001B[1;32mIn [29]\u001B[0m, in \u001B[0;36mMin_Heap.heap_pop\u001B[1;34m(self)\u001B[0m\n\u001B[0;32m     34\u001B[0m \u001B[38;5;28mself\u001B[39m\u001B[38;5;241m.\u001B[39mHeap[\u001B[38;5;28mself\u001B[39m\u001B[38;5;241m.\u001B[39mroot] \u001B[38;5;241m=\u001B[39m \u001B[38;5;28mself\u001B[39m\u001B[38;5;241m.\u001B[39mHeap[\u001B[38;5;28mself\u001B[39m\u001B[38;5;241m.\u001B[39mcur_size]\n\u001B[0;32m     35\u001B[0m \u001B[38;5;28mself\u001B[39m\u001B[38;5;241m.\u001B[39mcur_size \u001B[38;5;241m-\u001B[39m\u001B[38;5;241m=\u001B[39m \u001B[38;5;241m1\u001B[39m\n\u001B[1;32m---> 36\u001B[0m \u001B[38;5;28;43mself\u001B[39;49m\u001B[38;5;241;43m.\u001B[39;49m\u001B[43mmin_heapify\u001B[49m\u001B[43m(\u001B[49m\u001B[38;5;28;43mself\u001B[39;49m\u001B[38;5;241;43m.\u001B[39;49m\u001B[43mroot\u001B[49m\u001B[43m)\u001B[49m\n\u001B[0;32m     37\u001B[0m \u001B[38;5;28;01mreturn\u001B[39;00m last\n",
      "Input \u001B[1;32mIn [29]\u001B[0m, in \u001B[0;36mMin_Heap.min_heapify\u001B[1;34m(self, i)\u001B[0m\n\u001B[0;32m     18\u001B[0m \u001B[38;5;28;01melse\u001B[39;00m:\n\u001B[0;32m     19\u001B[0m     \u001B[38;5;28mself\u001B[39m\u001B[38;5;241m.\u001B[39mswap(i, (\u001B[38;5;241m2\u001B[39m \u001B[38;5;241m*\u001B[39m i) \u001B[38;5;241m+\u001B[39m \u001B[38;5;241m1\u001B[39m)\n\u001B[1;32m---> 20\u001B[0m     \u001B[38;5;28;43mself\u001B[39;49m\u001B[38;5;241;43m.\u001B[39;49m\u001B[43mmin_heapify\u001B[49m\u001B[43m(\u001B[49m\u001B[43m(\u001B[49m\u001B[38;5;241;43m2\u001B[39;49m\u001B[43m \u001B[49m\u001B[38;5;241;43m*\u001B[39;49m\u001B[43m \u001B[49m\u001B[43mi\u001B[49m\u001B[43m)\u001B[49m\u001B[43m \u001B[49m\u001B[38;5;241;43m+\u001B[39;49m\u001B[43m \u001B[49m\u001B[38;5;241;43m1\u001B[39;49m\u001B[43m)\u001B[49m\n",
      "Input \u001B[1;32mIn [29]\u001B[0m, in \u001B[0;36mMin_Heap.min_heapify\u001B[1;34m(self, i)\u001B[0m\n\u001B[0;32m     18\u001B[0m \u001B[38;5;28;01melse\u001B[39;00m:\n\u001B[0;32m     19\u001B[0m     \u001B[38;5;28mself\u001B[39m\u001B[38;5;241m.\u001B[39mswap(i, (\u001B[38;5;241m2\u001B[39m \u001B[38;5;241m*\u001B[39m i) \u001B[38;5;241m+\u001B[39m \u001B[38;5;241m1\u001B[39m)\n\u001B[1;32m---> 20\u001B[0m     \u001B[38;5;28;43mself\u001B[39;49m\u001B[38;5;241;43m.\u001B[39;49m\u001B[43mmin_heapify\u001B[49m\u001B[43m(\u001B[49m\u001B[43m(\u001B[49m\u001B[38;5;241;43m2\u001B[39;49m\u001B[43m \u001B[49m\u001B[38;5;241;43m*\u001B[39;49m\u001B[43m \u001B[49m\u001B[43mi\u001B[49m\u001B[43m)\u001B[49m\u001B[43m \u001B[49m\u001B[38;5;241;43m+\u001B[39;49m\u001B[43m \u001B[49m\u001B[38;5;241;43m1\u001B[39;49m\u001B[43m)\u001B[49m\n",
      "    \u001B[1;31m[... skipping similar frames: Min_Heap.min_heapify at line 20 (2 times)]\u001B[0m\n",
      "Input \u001B[1;32mIn [29]\u001B[0m, in \u001B[0;36mMin_Heap.min_heapify\u001B[1;34m(self, i)\u001B[0m\n\u001B[0;32m     15\u001B[0m \u001B[38;5;28;01mif\u001B[39;00m (\u001B[38;5;28mself\u001B[39m\u001B[38;5;241m.\u001B[39mHeap[\u001B[38;5;241m2\u001B[39m \u001B[38;5;241m*\u001B[39m i][\u001B[38;5;241m0\u001B[39m]\u001B[38;5;241m+\u001B[39m \u001B[38;5;28mself\u001B[39m\u001B[38;5;241m.\u001B[39mHeap[\u001B[38;5;241m2\u001B[39m \u001B[38;5;241m*\u001B[39m i][\u001B[38;5;241m1\u001B[39m]) \u001B[38;5;241m<\u001B[39m (\u001B[38;5;28mself\u001B[39m\u001B[38;5;241m.\u001B[39mHeap[(\u001B[38;5;241m2\u001B[39m \u001B[38;5;241m*\u001B[39m i) \u001B[38;5;241m+\u001B[39m \u001B[38;5;241m1\u001B[39m][\u001B[38;5;241m0\u001B[39m]\u001B[38;5;241m+\u001B[39m \u001B[38;5;28mself\u001B[39m\u001B[38;5;241m.\u001B[39mHeap[(\u001B[38;5;241m2\u001B[39m \u001B[38;5;241m*\u001B[39m i)\u001B[38;5;241m+\u001B[39m\u001B[38;5;241m1\u001B[39m][\u001B[38;5;241m1\u001B[39m]):\n\u001B[0;32m     16\u001B[0m     \u001B[38;5;28mself\u001B[39m\u001B[38;5;241m.\u001B[39mswap(i, \u001B[38;5;241m2\u001B[39m \u001B[38;5;241m*\u001B[39m i)\n\u001B[1;32m---> 17\u001B[0m     \u001B[38;5;28;43mself\u001B[39;49m\u001B[38;5;241;43m.\u001B[39;49m\u001B[43mmin_heapify\u001B[49m\u001B[43m(\u001B[49m\u001B[38;5;241;43m2\u001B[39;49m\u001B[43m \u001B[49m\u001B[38;5;241;43m*\u001B[39;49m\u001B[43m \u001B[49m\u001B[43mi\u001B[49m\u001B[43m)\u001B[49m\n\u001B[0;32m     18\u001B[0m \u001B[38;5;28;01melse\u001B[39;00m:\n\u001B[0;32m     19\u001B[0m     \u001B[38;5;28mself\u001B[39m\u001B[38;5;241m.\u001B[39mswap(i, (\u001B[38;5;241m2\u001B[39m \u001B[38;5;241m*\u001B[39m i) \u001B[38;5;241m+\u001B[39m \u001B[38;5;241m1\u001B[39m)\n",
      "    \u001B[1;31m[... skipping similar frames: Min_Heap.min_heapify at line 20 (1 times)]\u001B[0m\n",
      "Input \u001B[1;32mIn [29]\u001B[0m, in \u001B[0;36mMin_Heap.min_heapify\u001B[1;34m(self, i)\u001B[0m\n\u001B[0;32m     15\u001B[0m \u001B[38;5;28;01mif\u001B[39;00m (\u001B[38;5;28mself\u001B[39m\u001B[38;5;241m.\u001B[39mHeap[\u001B[38;5;241m2\u001B[39m \u001B[38;5;241m*\u001B[39m i][\u001B[38;5;241m0\u001B[39m]\u001B[38;5;241m+\u001B[39m \u001B[38;5;28mself\u001B[39m\u001B[38;5;241m.\u001B[39mHeap[\u001B[38;5;241m2\u001B[39m \u001B[38;5;241m*\u001B[39m i][\u001B[38;5;241m1\u001B[39m]) \u001B[38;5;241m<\u001B[39m (\u001B[38;5;28mself\u001B[39m\u001B[38;5;241m.\u001B[39mHeap[(\u001B[38;5;241m2\u001B[39m \u001B[38;5;241m*\u001B[39m i) \u001B[38;5;241m+\u001B[39m \u001B[38;5;241m1\u001B[39m][\u001B[38;5;241m0\u001B[39m]\u001B[38;5;241m+\u001B[39m \u001B[38;5;28mself\u001B[39m\u001B[38;5;241m.\u001B[39mHeap[(\u001B[38;5;241m2\u001B[39m \u001B[38;5;241m*\u001B[39m i)\u001B[38;5;241m+\u001B[39m\u001B[38;5;241m1\u001B[39m][\u001B[38;5;241m1\u001B[39m]):\n\u001B[0;32m     16\u001B[0m     \u001B[38;5;28mself\u001B[39m\u001B[38;5;241m.\u001B[39mswap(i, \u001B[38;5;241m2\u001B[39m \u001B[38;5;241m*\u001B[39m i)\n\u001B[1;32m---> 17\u001B[0m     \u001B[38;5;28;43mself\u001B[39;49m\u001B[38;5;241;43m.\u001B[39;49m\u001B[43mmin_heapify\u001B[49m\u001B[43m(\u001B[49m\u001B[38;5;241;43m2\u001B[39;49m\u001B[43m \u001B[49m\u001B[38;5;241;43m*\u001B[39;49m\u001B[43m \u001B[49m\u001B[43mi\u001B[49m\u001B[43m)\u001B[49m\n\u001B[0;32m     18\u001B[0m \u001B[38;5;28;01melse\u001B[39;00m:\n\u001B[0;32m     19\u001B[0m     \u001B[38;5;28mself\u001B[39m\u001B[38;5;241m.\u001B[39mswap(i, (\u001B[38;5;241m2\u001B[39m \u001B[38;5;241m*\u001B[39m i) \u001B[38;5;241m+\u001B[39m \u001B[38;5;241m1\u001B[39m)\n",
      "    \u001B[1;31m[... skipping similar frames: Min_Heap.min_heapify at line 17 (4 times), Min_Heap.min_heapify at line 20 (2 times)]\u001B[0m\n",
      "Input \u001B[1;32mIn [29]\u001B[0m, in \u001B[0;36mMin_Heap.min_heapify\u001B[1;34m(self, i)\u001B[0m\n\u001B[0;32m     15\u001B[0m \u001B[38;5;28;01mif\u001B[39;00m (\u001B[38;5;28mself\u001B[39m\u001B[38;5;241m.\u001B[39mHeap[\u001B[38;5;241m2\u001B[39m \u001B[38;5;241m*\u001B[39m i][\u001B[38;5;241m0\u001B[39m]\u001B[38;5;241m+\u001B[39m \u001B[38;5;28mself\u001B[39m\u001B[38;5;241m.\u001B[39mHeap[\u001B[38;5;241m2\u001B[39m \u001B[38;5;241m*\u001B[39m i][\u001B[38;5;241m1\u001B[39m]) \u001B[38;5;241m<\u001B[39m (\u001B[38;5;28mself\u001B[39m\u001B[38;5;241m.\u001B[39mHeap[(\u001B[38;5;241m2\u001B[39m \u001B[38;5;241m*\u001B[39m i) \u001B[38;5;241m+\u001B[39m \u001B[38;5;241m1\u001B[39m][\u001B[38;5;241m0\u001B[39m]\u001B[38;5;241m+\u001B[39m \u001B[38;5;28mself\u001B[39m\u001B[38;5;241m.\u001B[39mHeap[(\u001B[38;5;241m2\u001B[39m \u001B[38;5;241m*\u001B[39m i)\u001B[38;5;241m+\u001B[39m\u001B[38;5;241m1\u001B[39m][\u001B[38;5;241m1\u001B[39m]):\n\u001B[0;32m     16\u001B[0m     \u001B[38;5;28mself\u001B[39m\u001B[38;5;241m.\u001B[39mswap(i, \u001B[38;5;241m2\u001B[39m \u001B[38;5;241m*\u001B[39m i)\n\u001B[1;32m---> 17\u001B[0m     \u001B[38;5;28;43mself\u001B[39;49m\u001B[38;5;241;43m.\u001B[39;49m\u001B[43mmin_heapify\u001B[49m\u001B[43m(\u001B[49m\u001B[38;5;241;43m2\u001B[39;49m\u001B[43m \u001B[49m\u001B[38;5;241;43m*\u001B[39;49m\u001B[43m \u001B[49m\u001B[43mi\u001B[49m\u001B[43m)\u001B[49m\n\u001B[0;32m     18\u001B[0m \u001B[38;5;28;01melse\u001B[39;00m:\n\u001B[0;32m     19\u001B[0m     \u001B[38;5;28mself\u001B[39m\u001B[38;5;241m.\u001B[39mswap(i, (\u001B[38;5;241m2\u001B[39m \u001B[38;5;241m*\u001B[39m i) \u001B[38;5;241m+\u001B[39m \u001B[38;5;241m1\u001B[39m)\n",
      "Input \u001B[1;32mIn [29]\u001B[0m, in \u001B[0;36mMin_Heap.min_heapify\u001B[1;34m(self, i)\u001B[0m\n\u001B[0;32m     18\u001B[0m \u001B[38;5;28;01melse\u001B[39;00m:\n\u001B[0;32m     19\u001B[0m     \u001B[38;5;28mself\u001B[39m\u001B[38;5;241m.\u001B[39mswap(i, (\u001B[38;5;241m2\u001B[39m \u001B[38;5;241m*\u001B[39m i) \u001B[38;5;241m+\u001B[39m \u001B[38;5;241m1\u001B[39m)\n\u001B[1;32m---> 20\u001B[0m     \u001B[38;5;28;43mself\u001B[39;49m\u001B[38;5;241;43m.\u001B[39;49m\u001B[43mmin_heapify\u001B[49m\u001B[43m(\u001B[49m\u001B[43m(\u001B[49m\u001B[38;5;241;43m2\u001B[39;49m\u001B[43m \u001B[49m\u001B[38;5;241;43m*\u001B[39;49m\u001B[43m \u001B[49m\u001B[43mi\u001B[49m\u001B[43m)\u001B[49m\u001B[43m \u001B[49m\u001B[38;5;241;43m+\u001B[39;49m\u001B[43m \u001B[49m\u001B[38;5;241;43m1\u001B[39;49m\u001B[43m)\u001B[49m\n",
      "Input \u001B[1;32mIn [29]\u001B[0m, in \u001B[0;36mMin_Heap.min_heapify\u001B[1;34m(self, i)\u001B[0m\n\u001B[0;32m     12\u001B[0m \u001B[38;5;28;01mdef\u001B[39;00m \u001B[38;5;21mmin_heapify\u001B[39m(\u001B[38;5;28mself\u001B[39m, i):\n\u001B[0;32m     13\u001B[0m     \u001B[38;5;28;01mif\u001B[39;00m \u001B[38;5;129;01mnot\u001B[39;00m (i \u001B[38;5;241m>\u001B[39m\u001B[38;5;241m=\u001B[39m (\u001B[38;5;28mself\u001B[39m\u001B[38;5;241m.\u001B[39mcur_size \u001B[38;5;241m/\u001B[39m\u001B[38;5;241m/\u001B[39m \u001B[38;5;241m2\u001B[39m) \u001B[38;5;129;01mand\u001B[39;00m i \u001B[38;5;241m<\u001B[39m\u001B[38;5;241m=\u001B[39m \u001B[38;5;28mself\u001B[39m\u001B[38;5;241m.\u001B[39mcur_size):\n\u001B[1;32m---> 14\u001B[0m         \u001B[38;5;28;01mif\u001B[39;00m (\u001B[38;5;28mself\u001B[39m\u001B[38;5;241m.\u001B[39mHeap[i][\u001B[38;5;241m0\u001B[39m] \u001B[38;5;241m+\u001B[39m \u001B[38;5;28mself\u001B[39m\u001B[38;5;241m.\u001B[39mHeap[i][\u001B[38;5;241m1\u001B[39m]) \u001B[38;5;241m>\u001B[39m (\u001B[38;5;28;43mself\u001B[39;49m\u001B[38;5;241;43m.\u001B[39;49m\u001B[43mHeap\u001B[49m\u001B[43m[\u001B[49m\u001B[38;5;241;43m2\u001B[39;49m\u001B[43m \u001B[49m\u001B[38;5;241;43m*\u001B[39;49m\u001B[43m \u001B[49m\u001B[43mi\u001B[49m\u001B[43m]\u001B[49m[\u001B[38;5;241m0\u001B[39m] \u001B[38;5;241m+\u001B[39m \u001B[38;5;28mself\u001B[39m\u001B[38;5;241m.\u001B[39mHeap[\u001B[38;5;241m2\u001B[39m \u001B[38;5;241m*\u001B[39m i][\u001B[38;5;241m1\u001B[39m]) \u001B[38;5;129;01mor\u001B[39;00m (\u001B[38;5;28mself\u001B[39m\u001B[38;5;241m.\u001B[39mHeap[i][\u001B[38;5;241m0\u001B[39m] \u001B[38;5;241m+\u001B[39m \u001B[38;5;28mself\u001B[39m\u001B[38;5;241m.\u001B[39mHeap[i][\u001B[38;5;241m1\u001B[39m]) \u001B[38;5;241m>\u001B[39m (\u001B[38;5;28mself\u001B[39m\u001B[38;5;241m.\u001B[39mHeap[(\u001B[38;5;241m2\u001B[39m \u001B[38;5;241m*\u001B[39m i) \u001B[38;5;241m+\u001B[39m \u001B[38;5;241m1\u001B[39m][\u001B[38;5;241m0\u001B[39m] \u001B[38;5;241m+\u001B[39m \u001B[38;5;28mself\u001B[39m\u001B[38;5;241m.\u001B[39mHeap[(\u001B[38;5;241m2\u001B[39m \u001B[38;5;241m*\u001B[39m i)\u001B[38;5;241m+\u001B[39m\u001B[38;5;241m1\u001B[39m][\u001B[38;5;241m1\u001B[39m]):\n\u001B[0;32m     15\u001B[0m             \u001B[38;5;28;01mif\u001B[39;00m (\u001B[38;5;28mself\u001B[39m\u001B[38;5;241m.\u001B[39mHeap[\u001B[38;5;241m2\u001B[39m \u001B[38;5;241m*\u001B[39m i][\u001B[38;5;241m0\u001B[39m]\u001B[38;5;241m+\u001B[39m \u001B[38;5;28mself\u001B[39m\u001B[38;5;241m.\u001B[39mHeap[\u001B[38;5;241m2\u001B[39m \u001B[38;5;241m*\u001B[39m i][\u001B[38;5;241m1\u001B[39m]) \u001B[38;5;241m<\u001B[39m (\u001B[38;5;28mself\u001B[39m\u001B[38;5;241m.\u001B[39mHeap[(\u001B[38;5;241m2\u001B[39m \u001B[38;5;241m*\u001B[39m i) \u001B[38;5;241m+\u001B[39m \u001B[38;5;241m1\u001B[39m][\u001B[38;5;241m0\u001B[39m]\u001B[38;5;241m+\u001B[39m \u001B[38;5;28mself\u001B[39m\u001B[38;5;241m.\u001B[39mHeap[(\u001B[38;5;241m2\u001B[39m \u001B[38;5;241m*\u001B[39m i)\u001B[38;5;241m+\u001B[39m\u001B[38;5;241m1\u001B[39m][\u001B[38;5;241m1\u001B[39m]):\n\u001B[0;32m     16\u001B[0m                 \u001B[38;5;28mself\u001B[39m\u001B[38;5;241m.\u001B[39mswap(i, \u001B[38;5;241m2\u001B[39m \u001B[38;5;241m*\u001B[39m i)\n",
      "\u001B[1;31mIndexError\u001B[0m: list index out of range"
     ]
    }
   ],
   "source": [
    "class Min_Heap:\n",
    "    def __init__(self, max_size):\n",
    "        self.max_size = max_size\n",
    "        self.cur_size = 0\n",
    "        self.Heap = [[\"0\", \"0\"]] * (self.max_size + 1)\n",
    "        self.Heap[0] = [\" \", \" \"]\n",
    "        self.root = 1\n",
    "\n",
    "    def swap(self, node1, node2):\n",
    "        self.Heap[node1], self.Heap[node2] = self.Heap[node2], self.Heap[node1]\n",
    "\n",
    "    def min_heapify(self, i):\n",
    "        if not (i >= (self.cur_size // 2) and i <= self.cur_size):\n",
    "            if (self.Heap[i][0] + self.Heap[i][1]) > (self.Heap[2 * i][0] + self.Heap[2 * i][1]) or (self.Heap[i][0] + self.Heap[i][1]) > (self.Heap[(2 * i) + 1][0] + self.Heap[(2 * i)+1][1]):\n",
    "                if (self.Heap[2 * i][0]+ self.Heap[2 * i][1]) < (self.Heap[(2 * i) + 1][0]+ self.Heap[(2 * i)+1][1]):\n",
    "                    self.swap(i, 2 * i)\n",
    "                    self.min_heapify(2 * i)\n",
    "                else:\n",
    "                    self.swap(i, (2 * i) + 1)\n",
    "                    self.min_heapify((2 * i) + 1)\n",
    "\n",
    "    def heap_push(self, element):\n",
    "        if self.cur_size >= self.max_size:\n",
    "            return\n",
    "        self.cur_size += 1\n",
    "        self.Heap[self.cur_size] = element\n",
    "        current = self.cur_size\n",
    "        while (self.Heap[current][0]+ self.Heap[current][1]) < (self.Heap[current // 2][0]+ self.Heap[current // 2][1]):\n",
    "            self.swap(current, current // 2)\n",
    "            current = current // 2\n",
    "\n",
    "    def heap_pop(self):\n",
    "        last = self.Heap[self.root]\n",
    "        self.Heap[self.root] = self.Heap[self.cur_size]\n",
    "        self.cur_size -= 1\n",
    "        self.min_heapify(self.root)\n",
    "        return last\n",
    "\n",
    "    def build_heap(self):\n",
    "        for i in range(self.cur_size // 2, 0, -1):\n",
    "            self.min_heapify(i)\n",
    "\n",
    "    def heap_sort(self):\n",
    "        sorted_list = []\n",
    "        current = self.cur_size\n",
    "        for i in range(self.cur_size):\n",
    "            sorted_list.append(self.heap_pop())\n",
    "        return sorted_list\n",
    "\n",
    "person_heap = Min_Heap(len(personer))\n",
    "\n",
    "for person in personer:\n",
    "    person_heap.heap_push(person)\n",
    "\n",
    "\n",
    "\n",
    "sorted_list = person_heap.heap_sort()\n",
    "for i in range(0, 100000, 20000):\n",
    "    print(f\"{sorted_list[i][0] + ' ' + sorted_list[i][1].lower().title():<30}  {sorted_list[i][2].lower().title():<30} {sorted_list[i][3]} - {sorted_list[i][4].lower().title()}\")"
   ]
  },
  {
   "cell_type": "code",
   "execution_count": null,
   "outputs": [],
   "source": [
    "\n"
   ],
   "metadata": {
    "collapsed": false,
    "pycharm": {
     "name": "#%%\n"
    }
   }
  }
 ],
 "metadata": {
  "kernelspec": {
   "display_name": "Python 3 (ipykernel)",
   "language": "python",
   "name": "python3"
  },
  "language_info": {
   "codemirror_mode": {
    "name": "ipython",
    "version": 3
   },
   "file_extension": ".py",
   "mimetype": "text/x-python",
   "name": "python",
   "nbconvert_exporter": "python",
   "pygments_lexer": "ipython3",
   "version": "3.9.12"
  }
 },
 "nbformat": 4,
 "nbformat_minor": 4
}