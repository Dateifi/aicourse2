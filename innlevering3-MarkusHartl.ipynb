{
 "cells": [
  {
   "cell_type": "raw",
   "metadata": {},
   "source": [
    "1: Filen \"Personer.dta\" skal leses inn i en list persons. Filen inneholder 100 000 rader med fiktive personalia på formatet \"etternavn;fornavn;adresse;postnummer;poststed\". Dette skal gjøres i native Python, dvs. Numpy/Pandas eller andre libs skal ikke brukes. Legg hver rad inn i en passende datastruktur, feks. tuple, dict, list eller namedtuple. Skriv så ut de 5 siste radene i en celle."
   ]
  },
  {
   "cell_type": "code",
   "execution_count": 26,
   "metadata": {},
   "outputs": [],
   "source": [
    "from collections import namedtuple\n",
    "\n",
    "Person = namedtuple('Person', [\"Etternavn\", \"Fornavn\", \"Adresse\", \"Postnummer\", \"Poststed\"])\n",
    "personer = []\n",
    "with open('Personer.dta', encoding=\"ISO-8859-1\") as f:\n",
    "    for line in f:\n",
    "        line = line.rstrip().split(\";\")\n",
    "        personer.append(Person(line[0], line[1], line[2], line[3], line[4]))\n",
    "\n"
   ]
  },
  {
   "cell_type": "code",
   "execution_count": 27,
   "outputs": [
    {
     "name": "stdout",
     "output_type": "stream",
     "text": [
      "STORLIEN Hans-Magnus            Tallsletta 57                  3849 - Vråliosen\n",
      "ASAIPPILLAI Jo Gudbrand         Bergerud 68                    4371 - Egersund\n",
      "TOLLEFSEN Zulfiqar Ali          Eirik Jarls Gate 79            1305 - Haslum\n",
      "ELI Knut Olaf                   Rustad S 14                    9775 - Gamvik\n",
      "NYRUD Erik Norø                 Gjerdhaugvegen 3               6512 - Kristiansund N\n"
     ]
    }
   ],
   "source": [
    "result = personer[-5:]\n",
    "\n",
    "for person in result:\n",
    "    print(f\"{person[0] + ' ' + person[1].lower().title():<30}  {person[2].lower().title():<30} {person[3]} - {person[4].lower().title()}\")"
   ],
   "metadata": {
    "collapsed": false
   }
  },
  {
   "cell_type": "raw",
   "metadata": {},
   "source": [
    "2: Hvor mange unike postnummer finnes i \"Personer.dta\"?"
   ]
  },
  {
   "cell_type": "code",
   "execution_count": 28,
   "metadata": {},
   "outputs": [
    {
     "name": "stdout",
     "output_type": "stream",
     "text": [
      "2824\n"
     ]
    }
   ],
   "source": [
    "unike_postnummer = set()\n",
    "for person in personer:\n",
    "    unike_postnummer.add(person[3])\n",
    "\n",
    "print(len(unike_postnummer))"
   ]
  },
  {
   "cell_type": "raw",
   "metadata": {},
   "source": [
    "3: Hva er de 10 vanligste etternavnene (som forekommer flest ganger) i \"Personer.dta\"?"
   ]
  },
  {
   "cell_type": "code",
   "execution_count": 29,
   "metadata": {},
   "outputs": [
    {
     "name": "stdout",
     "output_type": "stream",
     "text": [
      "{'ÅSBAKK': 83, 'BERGERSEN': 78, 'LUNDBERGSEN': 77, 'TRANE': 77, 'LUTHER': 77, 'DANIELSEN': 77, 'MJØEN': 76, 'IGLAND': 75, 'KRANGSÅS': 75, 'LAM': 75}\n"
     ]
    }
   ],
   "source": [
    "vanligste_etternavnene = {}\n",
    "for person in personer:\n",
    "    vanligste_etternavnene[person[0]] = vanligste_etternavnene.get(person[0], 0) + 1\n",
    "\n",
    "result = dict(reversed(sorted([(k,v) for k, v in vanligste_etternavnene.items()], key=lambda x: x[1])[-10:]))\n",
    "print(result)"
   ]
  },
  {
   "cell_type": "raw",
   "metadata": {},
   "source": [
    "4: Implementer sorteringsalgoritmen Heap Sort og sorter listen \"persons\" ut fra etternavn. Ferdig implementerte funksjoner som sorted() skal ikke benyttes. Skriv så ut persondata for de fem personene med index [0,20000,40000,60000,80000] fra den sorterte listen."
   ]
  },
  {
   "cell_type": "code",
   "execution_count": 30,
   "outputs": [
    {
     "name": "stdout",
     "output_type": "stream",
     "text": [
      "AAKVIK Anette                   Baklien 11                     1360 - Nesbru\n",
      "ENGVOLL Tom Mikael              Kvam St 48                     1804 - Spydeberg\n",
      "JERMOSEN Åge Raymond            Hatlebakkane 6                 5236 - Rådal\n",
      "MYRLUND Gaute                   Dynestøl 89                    7494 - Singsås\n",
      "SMITH Arnt Ole                  Sappen 39                      5852 - Bergen\n"
     ]
    }
   ],
   "source": [
    "#Sorterer listen \"personer\" ut fra Etternan + Fornavn\n",
    "class MinHeap:\n",
    "    def __init__(self):\n",
    "        self.heap = []\n",
    "        self.size = 0\n",
    "        self.heap.append(\"dummy\")\n",
    "\n",
    "    def perc_up(self, i):\n",
    "        while i // 2 > 0:\n",
    "            if self.heap[i][0] + \"-\" + self.heap[i][1] < self.heap[i // 2][0] + \"-\" + self.heap[i // 2][1]:\n",
    "                self.heap[i], self.heap[i // 2] = self.heap[i // 2], self.heap[i]\n",
    "            i = i // 2\n",
    "\n",
    "    def perc_down(self, i):\n",
    "        while (i * 2) <= self.size:\n",
    "            mc = self.min_child(i)\n",
    "            if self.heap[i][0] + \"-\" + self.heap[i][1] > self.heap[mc][0] + \"-\" + self.heap[mc][1]:\n",
    "                self.heap[i], self.heap[mc] = self.heap[mc], self.heap[i]\n",
    "            i = mc\n",
    "\n",
    "    def min_child(self, i):\n",
    "        if i * 2 + 1 > self.size:\n",
    "            return i * 2\n",
    "        else:\n",
    "            if self.heap[i*2][0] + \"-\" + self.heap[i*2][1] < self.heap[i*2+1][0] + \"-\" + self.heap[i*2+1][1]:\n",
    "                return i * 2\n",
    "            else:\n",
    "                return i * 2 + 1\n",
    "\n",
    "    def del_min(self):\n",
    "        ret_val = self.heap[1]\n",
    "        self.heap[1] = self.heap[self.size]\n",
    "        self.size -= 1\n",
    "        self.heap.pop()\n",
    "        self.perc_down(1)\n",
    "        return ret_val\n",
    "\n",
    "    def build_heap(self, a_list):\n",
    "        i = len(a_list) // 2\n",
    "        self.size = len(a_list)\n",
    "        self.heap = [\"dummy\"] + a_list[:]\n",
    "        while (i > 0):\n",
    "            self.perc_down(i)\n",
    "            i = i - 1\n",
    "\n",
    "    def heap_sort(self):\n",
    "        sort_list = []\n",
    "        while self.size > 0:\n",
    "            sort_list.append(self.del_min())\n",
    "        return sort_list\n",
    "\n",
    "\n",
    "heap = MinHeap()\n",
    "heap.build_heap(personer)\n",
    "sorted_list = heap.heap_sort()\n",
    "for i in range(0, 80001, 20000):\n",
    "    print(\n",
    "        f\"{sorted_list[i][0] + ' ' + sorted_list[i][1].lower().title():<30}  {sorted_list[i][2].lower().title():<30} {sorted_list[i][3]} - {sorted_list[i][4].lower().title()}\")\n"
   ],
   "metadata": {
    "collapsed": false
   }
  }
 ],
 "metadata": {
  "kernelspec": {
   "display_name": "Python 3 (ipykernel)",
   "language": "python",
   "name": "python3"
  },
  "language_info": {
   "codemirror_mode": {
    "name": "ipython",
    "version": 3
   },
   "file_extension": ".py",
   "mimetype": "text/x-python",
   "name": "python",
   "nbconvert_exporter": "python",
   "pygments_lexer": "ipython3",
   "version": "3.9.12"
  }
 },
 "nbformat": 4,
 "nbformat_minor": 4
}
